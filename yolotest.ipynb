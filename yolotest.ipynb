{
 "cells": [
  {
   "cell_type": "code",
   "execution_count": 56,
   "metadata": {},
   "outputs": [],
   "source": [
    "# Initialize Global Variables\n",
    "CLASS_LABELS = {0: \"person\", 2: \"car\", 39: \"bottle\", 67: \"cell phone\"}"
   ]
  },
  {
   "cell_type": "code",
   "execution_count": 57,
   "metadata": {},
   "outputs": [],
   "source": [
    "from ultralytics import YOLO\n",
    "\n",
    "model = YOLO(\"yolov8n.pt\")"
   ]
  },
  {
   "cell_type": "code",
   "execution_count": 58,
   "metadata": {},
   "outputs": [
    {
     "name": "stderr",
     "output_type": "stream",
     "text": [
      "Ultralytics YOLOv8.0.32  Python-3.9.13 torch-2.0.1+cpu CPU\n",
      "YOLOv8n summary (fused): 168 layers, 3151904 parameters, 0 gradients, 8.7 GFLOPs\n",
      "\n",
      "image 1/1 C:\\Users\\xdshr\\Downloads\\Senior Research Project 2023-24\\yolotesting\\cars.jpg: 384x640 17 cars, 97.0ms\n",
      "Speed: 1.0ms pre-process, 97.0ms inference, 1.0ms postprocess per image at shape (1, 3, 640, 640)\n"
     ]
    }
   ],
   "source": [
    "# predict on image\n",
    "model_result = model(\"cars.jpg\")"
   ]
  },
  {
   "cell_type": "code",
   "execution_count": 59,
   "metadata": {},
   "outputs": [],
   "source": [
    "class BoundBox:\n",
    "    def __init__(self, xmin, ymin, height, width, confidence=None, class_id=None, class_label=None):\n",
    "        self.xmin = xmin\n",
    "        self.ymin = ymin\n",
    "        self.height = height\n",
    "        self.width = width\n",
    "        self.confidence = confidence\n",
    "        self.class_id = class_id\n",
    "        self.class_label = class_label\n",
    "        \n",
    "    def __init__(self, dic: dict):\n",
    "        self.xmin = dic[\"x\"]\n",
    "        self.ymin = dic[\"y\"]\n",
    "        self.height = dic[\"h\"]\n",
    "        self.width = dic[\"w\"]\n",
    "        self.confidence = dic[\"confidence\"]\n",
    "        self.class_id = dic[\"class\"]\n",
    "        self.class_label = CLASS_LABELS[self.class_id] if self.class_id in CLASS_LABELS else None\n",
    "\n",
    "    def get_label(self):\n",
    "        return self.class_label\n",
    "\n",
    "    def get_confidence(self):\n",
    "        return self.confidence\n",
    "\n",
    "    def get_coordinates(self):\n",
    "        return (self.xmin, self.ymin, self.xmin + self.width, self.ymin + self.height)\n",
    "\n",
    "    def __repr__(self):\n",
    "        return \"({:.2f}, {:.2f}, {:.2f}, {:.2f}: {})\".format(self.xmin, self.ymin, self.xmin + self.width, self.ymin + self.height, self.class_label)"
   ]
  },
  {
   "cell_type": "code",
   "execution_count": 60,
   "metadata": {},
   "outputs": [],
   "source": [
    "def parseBoxesToList(model_result):\n",
    "    boxes = model_result[0].boxes\n",
    "    parse = list()\n",
    "    for i in range(len(boxes)):\n",
    "        xy = boxes[i].xyxy[0].tolist()\n",
    "        parse.append({'x': xy[0], 'y': xy[1], 'w': xy[2], 'h': xy[3],\n",
    "                    'confidence': float(boxes.conf[i]), 'class': int(boxes.cls[i])})\n",
    "    return parse"
   ]
  },
  {
   "cell_type": "markdown",
   "metadata": {},
   "source": [
    "Low:  {'x': 45.0, 'y': 172.0, 'w': 953.0, 'h': 481.0, 'confidence': 0.9344398975372314, 'class': 2}\n",
    "\n",
    "High: {'x': 31.0, 'y': 33.0, 'w': 951.0, 'h': 347.0, 'confidence': 0.9449694156646729, 'class': 2}\n",
    "\n",
    "Right: {'x': 258.0, 'y': 89.0, 'w': 1182.0, 'h': 400.0, 'confidence': 0.951224148273468, 'class': 2}\n",
    "\n",
    "This means that coordinates start at the top left corner."
   ]
  },
  {
   "cell_type": "code",
   "execution_count": 61,
   "metadata": {},
   "outputs": [
    {
     "name": "stdout",
     "output_type": "stream",
     "text": [
      "(690.00, 142.00, 1467.00, 321.00: car)\n",
      "(176.00, 25.00, 434.00, 87.00: car)\n",
      "(457.00, 142.00, 1000.00, 321.00: car)\n",
      "(621.00, 77.00, 1319.00, 192.00: car)\n",
      "(194.00, 88.00, 458.00, 211.00: car)\n",
      "(471.00, 86.00, 1024.00, 208.00: car)\n",
      "(50.00, 152.00, 191.00, 342.00: car)\n",
      "(619.00, 22.00, 1318.00, 83.00: car)\n",
      "(266.00, 141.00, 610.00, 317.00: car)\n",
      "(31.00, 26.00, 146.00, 88.00: car)\n",
      "(757.00, 84.00, 1590.00, 203.00: car)\n",
      "(831.00, 24.00, 1739.00, 84.00: car)\n",
      "(0.00, 87.00, 85.00, 211.00: car)\n",
      "(309.00, 26.00, 694.00, 93.00: car)\n",
      "(415.00, 28.00, 908.00, 98.00: car)\n",
      "(926.00, 82.00, 1925.00, 200.00: car)\n",
      "(944.00, 137.00, 1943.00, 310.00: car)\n",
      "\n"
     ]
    }
   ],
   "source": [
    "boxx = parseBoxesToList(model_result)\n",
    "def toBBList(boxx):\n",
    "    return [BoundBox(i) for i in boxx]\n",
    "\n",
    "\n",
    "[print(i) for i in toBBList(boxx)]\n",
    "print()"
   ]
  },
  {
   "cell_type": "code",
   "execution_count": 63,
   "metadata": {},
   "outputs": [],
   "source": [
    "import cv2\n",
    "import time\n",
    "\n",
    "# Access the camera\n",
    "cap = cv2.VideoCapture(0)\n",
    "\n",
    "# Initialize variables for calculating FPS\n",
    "fps_start_time = time.time()\n",
    "fps_frames = 0\n",
    "\n",
    "while True:\n",
    "    # Get each frame as an image\n",
    "    ret, frame = cap.read()\n",
    "    \n",
    "    # Calculate FPS\n",
    "    fps_frames += 1\n",
    "    fps = 0\n",
    "    if time.time() - fps_start_time >= 0:\n",
    "        fps = fps_frames / (time.time() - fps_start_time)\n",
    "        fps_start_time = time.time()\n",
    "        fps_frames = 0\n",
    "\n",
    "    # Overlay FPS on the image\n",
    "    cv2.putText(frame, f'FPS: {int(fps)}', (10, 30), cv2.FONT_HERSHEY_SIMPLEX, 1, (0, 255, 0), 2)\n",
    "    \n",
    "    result = toBBList((modelresult := parseBoxesToList(model(frame, verbose=False))))\n",
    "    # print(modelresult)\n",
    "    for box in result:\n",
    "        # if box.get_label() is None:\n",
    "        #     continue\n",
    "        if box.get_confidence() < 0.5:\n",
    "            continue\n",
    "        \n",
    "        xmin, ymin, xmax, ymax = (w := [int(_) for _ in box.get_coordinates()])\n",
    "        cv2.rectangle(frame, (xmin, ymin), (xmax, ymax), (255, 0, 0), 2)\n",
    "        cv2.putText(frame, str(box.get_label()), ((xmin + xmax) // 2, (ymin + ymax) // 2), cv2.FONT_HERSHEY_SIMPLEX, 2, (255, 0, 0), 2)\n",
    "        cv2.putText(frame, str(box.get_confidence()), (xmin + 50, ymin - 10), cv2.FONT_HERSHEY_SIMPLEX, 0.5, (255, 0, 0), 2)\n",
    "\n",
    "    # Show the image\n",
    "    cv2.imshow('frame', frame)\n",
    "    \n",
    "    # Exit if 'q' is pressed\n",
    "    if cv2.waitKey(1) & 0xFF == ord('q'):\n",
    "        break\n",
    "\n",
    "# Release the camera and close the window\n",
    "cap.release()\n",
    "cv2.destroyAllWindows()\n"
   ]
  }
 ],
 "metadata": {
  "kernelspec": {
   "display_name": "Python 3",
   "language": "python",
   "name": "python3"
  },
  "language_info": {
   "codemirror_mode": {
    "name": "ipython",
    "version": 3
   },
   "file_extension": ".py",
   "mimetype": "text/x-python",
   "name": "python",
   "nbconvert_exporter": "python",
   "pygments_lexer": "ipython3",
   "version": "3.9.13"
  }
 },
 "nbformat": 4,
 "nbformat_minor": 2
}
